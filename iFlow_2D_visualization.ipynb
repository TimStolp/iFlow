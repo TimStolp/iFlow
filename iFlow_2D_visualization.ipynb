{
  "nbformat": 4,
  "nbformat_minor": 0,
  "metadata": {
    "colab": {
      "name": "iFlow_reproduction.ipynb",
      "provenance": [],
      "collapsed_sections": [],
      "mount_file_id": "1hqVikxyek6XavHFT34PN4Xl5C-DdMnoD",
      "authorship_tag": "ABX9TyPUV914a0X4pQ1Ss6Chi5mc",
      "include_colab_link": true
    },
    "kernelspec": {
      "name": "python3",
      "display_name": "Python 3"
    },
    "accelerator": "GPU"
  },
  "cells": [
    {
      "cell_type": "markdown",
      "metadata": {
        "id": "view-in-github",
        "colab_type": "text"
      },
      "source": [
        "<a href=\"https://colab.research.google.com/github/TimStolp/iFlow/blob/master/iFlow_2D_visualization.ipynb\" target=\"_parent\"><img src=\"https://colab.research.google.com/assets/colab-badge.svg\" alt=\"Open In Colab\"/></a>"
      ]
    },
    {
      "cell_type": "markdown",
      "metadata": {
        "id": "RnsUa0E9nBMy"
      },
      "source": [
        "#**2D Visualization**"
      ]
    },
    {
      "cell_type": "code",
      "metadata": {
        "colab": {
          "base_uri": "https://localhost:8080/"
        },
        "id": "ZO-qOaUq9m77",
        "outputId": "52bca820-b16c-413e-e150-ed01a850d171"
      },
      "source": [
        "from google.colab import drive\n",
        "import numpy as np\n",
        "import matplotlib.pyplot as plt\n",
        "drive.mount('/content/drive', force_remount=True)"
      ],
      "execution_count": 15,
      "outputs": [
        {
          "output_type": "stream",
          "text": [
            "Mounted at /content/drive\n"
          ],
          "name": "stdout"
        }
      ]
    },
    {
      "cell_type": "code",
      "metadata": {
        "colab": {
          "base_uri": "https://localhost:8080/"
        },
        "id": "SdU06bJIFOl6",
        "outputId": "c3afb09d-52e3-4f34-b91e-d2572db27645"
      },
      "source": [
        "%pip install tensorboardX\n",
        "%pip install portalocker\n"
      ],
      "execution_count": 16,
      "outputs": [
        {
          "output_type": "stream",
          "text": [
            "Requirement already satisfied: tensorboardX in /usr/local/lib/python3.6/dist-packages (2.1)\n",
            "Requirement already satisfied: protobuf>=3.8.0 in /usr/local/lib/python3.6/dist-packages (from tensorboardX) (3.12.4)\n",
            "Requirement already satisfied: numpy in /usr/local/lib/python3.6/dist-packages (from tensorboardX) (1.19.5)\n",
            "Requirement already satisfied: six in /usr/local/lib/python3.6/dist-packages (from tensorboardX) (1.15.0)\n",
            "Requirement already satisfied: setuptools in /usr/local/lib/python3.6/dist-packages (from protobuf>=3.8.0->tensorboardX) (51.1.1)\n",
            "Requirement already satisfied: portalocker in /usr/local/lib/python3.6/dist-packages (2.0.0)\n"
          ],
          "name": "stdout"
        }
      ]
    },
    {
      "cell_type": "markdown",
      "metadata": {
        "id": "eXfwZXkNW0MM"
      },
      "source": [
        "## Train models for different seeds\n"
      ]
    },
    {
      "cell_type": "code",
      "metadata": {
        "id": "UH035xhf9_6r",
        "colab": {
          "base_uri": "https://localhost:8080/"
        },
        "outputId": "fa75af6c-3edf-4552-fcfd-2856d1e11d82"
      },
      "source": [
        "seeds = [1, 2]\n",
        "for seed in seeds:\n",
        "  data_args = \"1000_5_2_2_3_\" + str(seed) + \"_gauss_xtanh_u_f\"\n",
        "  # train 2d example (iVAE)\n",
        "  !cd drive/MyDrive/iFlow ; python main.py --data-args=$data_args --epochs=20 --batch-size=8 --i-what=iVAE --cuda --preload-gpu\n",
        "  # train 2d example (iFlow)\n",
        "  !cd drive/MyDrive/iFlow ; python main.py --data-args=$data_args --epochs=20 --batch-size=8 --i-what=iFlow --cuda --flow_type=RQNSF_AG --nat_param_act=Softplus --preload-gpu"
      ],
      "execution_count": 22,
      "outputs": [
        {
          "output_type": "stream",
          "text": [
            "Namespace(anneal=False, batch_size=8, cuda=True, data_args='1000_5_2_2_3_1_gauss_xtanh_u_f', depth=3, epochs=20, file=None, flow_length=10, flow_type='RQSplineFlow', gpu_id='0', hidden_dim=50, i_what='iVAE', latent_dim=None, log_freq=25, lr=0.001, lr_drop_factor=0.5, lr_patience=10, max_iter=None, nat_param_act='Sigmoid', no_log=False, num_bins=8, preload=True, seed=1)\n",
            "training on Tesla T4\n",
            "data loaded on cuda\n",
            "setup time: 4.1602091789245605s\n",
            "Beginning training for exp: 1\n",
            ".. checkpoint at iteration 0 ..\n",
            "epoch 1: 4.5854s;\tloss: 3.6888;\tperf: 0.5713\n",
            "epoch 2: 4.5489s;\tloss: 0.9989;\tperf: 0.6844\n",
            "Epoch    60: reducing learning rate of group 0 to 5.0000e-04.\n",
            "epoch 3: 4.6202s;\tloss: 0.7901;\tperf: 0.6735\n",
            "Epoch    92: reducing learning rate of group 0 to 2.5000e-04.\n",
            "epoch 4: 4.3203s;\tloss: 0.7925;\tperf: 0.6974\n",
            ".. checkpoint at iteration 2500 ..\n",
            "Epoch   117: reducing learning rate of group 0 to 1.2500e-04.\n",
            "epoch 5: 4.4070s;\tloss: 0.5299;\tperf: 0.6731\n",
            "Epoch   128: reducing learning rate of group 0 to 6.2500e-05.\n",
            "Epoch   142: reducing learning rate of group 0 to 3.1250e-05.\n",
            "epoch 6: 4.2980s;\tloss: 0.4830;\tperf: 0.6736\n",
            "Epoch   153: reducing learning rate of group 0 to 1.5625e-05.\n",
            "Epoch   164: reducing learning rate of group 0 to 7.8125e-06.\n",
            "Epoch   175: reducing learning rate of group 0 to 3.9063e-06.\n",
            "epoch 7: 4.4732s;\tloss: 0.4990;\tperf: 0.6699\n",
            "Epoch   192: reducing learning rate of group 0 to 1.9531e-06.\n",
            "epoch 8: 4.7027s;\tloss: 0.6047;\tperf: 0.6469\n",
            ".. checkpoint at iteration 5000 ..\n",
            "Epoch   203: reducing learning rate of group 0 to 9.7656e-07.\n",
            "Epoch   214: reducing learning rate of group 0 to 4.8828e-07.\n",
            "Epoch   225: reducing learning rate of group 0 to 2.4414e-07.\n",
            "epoch 9: 4.8274s;\tloss: 0.5214;\tperf: 0.6527\n",
            "Epoch   236: reducing learning rate of group 0 to 1.2207e-07.\n",
            "Epoch   247: reducing learning rate of group 0 to 6.1035e-08.\n",
            "epoch 10: 4.6875s;\tloss: 0.6875;\tperf: 0.6637\n",
            "Epoch   258: reducing learning rate of group 0 to 3.0518e-08.\n",
            "Epoch   269: reducing learning rate of group 0 to 1.5259e-08.\n",
            "epoch 11: 4.4760s;\tloss: 0.6867;\tperf: 0.6517\n",
            "epoch 12: 5.2116s;\tloss: 0.6163;\tperf: 0.6462\n",
            ".. checkpoint at iteration 7500 ..\n",
            "epoch 13: 4.5600s;\tloss: 0.5978;\tperf: 0.6599\n",
            "epoch 14: 4.4322s;\tloss: 0.4842;\tperf: 0.6528\n",
            "epoch 15: 4.8191s;\tloss: 0.5354;\tperf: 0.6686\n",
            "epoch 16: 4.5966s;\tloss: 0.4808;\tperf: 0.6790\n",
            ".. checkpoint at iteration 10000 ..\n",
            "epoch 17: 4.3467s;\tloss: 0.5495;\tperf: 0.7089\n",
            "epoch 18: 4.2639s;\tloss: 0.5382;\tperf: 0.6829\n",
            "epoch 19: 4.8884s;\tloss: 0.6565;\tperf: 0.6623\n",
            "epoch 20: 4.6242s;\tloss: 0.5089;\tperf: 0.6587\n",
            "training time: 91.7066490650177s\n",
            "Log saved to experiments/2021-01-17_223221/log/log.json\n",
            "Log data saved to experiments/2021-01-17_223221/log/data/1.npz\n",
            "total time: 95.86685824394226s\n",
            "x.shape == torch.Size([5000, 2])\n",
            "s.shape == (5000, 2)\n",
            "u.shape == torch.Size([5000, 5])\n",
            "z_est.shape == (5000, 2)\n",
            "EVAL PERFORMANCE: 0.5885708622769397\n",
            "DONE.\n",
            "Namespace(anneal=False, batch_size=8, cuda=True, data_args='1000_5_2_2_3_1_gauss_xtanh_u_f', depth=3, epochs=20, file=None, flow_length=10, flow_type='RQNSF_AG', gpu_id='0', hidden_dim=50, i_what='iFlow', latent_dim=None, log_freq=25, lr=0.001, lr_drop_factor=0.5, lr_patience=10, max_iter=None, nat_param_act='Softplus', no_log=False, num_bins=8, preload=True, seed=1)\n",
            "training on Tesla T4\n",
            "data loaded on cuda\n",
            "setup time: 4.2658305168151855s\n",
            "Beginning training for exp: 1\n",
            ".. checkpoint at iteration 0 ..\n",
            "epoch 1: 79.1827s;\tloss: 0.5031 (l1: 1.0820, l2: 0.3630, l3: -0.9420);\tperf: 0.6759\n",
            "Epoch    29: reducing learning rate of group 0 to 5.0000e-04.\n",
            "epoch 2: 79.0261s;\tloss: -0.3363 (l1: 1.0892, l2: 0.5041, l3: -1.9296);\tperf: 0.7698\n",
            "Epoch    75: reducing learning rate of group 0 to 2.5000e-04.\n",
            "epoch 3: 78.0334s;\tloss: 0.4651 (l1: 1.0931, l2: 0.6623, l3: -1.2903);\tperf: 0.7528\n",
            "Epoch    92: reducing learning rate of group 0 to 1.2500e-04.\n",
            "epoch 4: 78.7323s;\tloss: -1.1301 (l1: 1.2531, l2: 0.1071, l3: -2.4903);\tperf: 0.8654\n",
            ".. checkpoint at iteration 2500 ..\n",
            "Epoch   117: reducing learning rate of group 0 to 6.2500e-05.\n",
            "epoch 5: 78.6389s;\tloss: -1.3517 (l1: 1.3109, l2: 0.0076, l3: -2.6702);\tperf: 0.8732\n",
            "Epoch   142: reducing learning rate of group 0 to 3.1250e-05.\n",
            "epoch 6: 79.7885s;\tloss: -1.3795 (l1: 1.3710, l2: -0.1250, l3: -2.6255);\tperf: 0.8547\n",
            "Epoch   153: reducing learning rate of group 0 to 1.5625e-05.\n",
            "Epoch   167: reducing learning rate of group 0 to 7.8125e-06.\n",
            "epoch 7: 80.6079s;\tloss: -1.4128 (l1: 1.3971, l2: -0.1466, l3: -2.6633);\tperf: 0.8345\n",
            "Epoch   178: reducing learning rate of group 0 to 3.9063e-06.\n",
            "Epoch   192: reducing learning rate of group 0 to 1.9531e-06.\n",
            "epoch 8: 79.9125s;\tloss: -1.4817 (l1: 1.4021, l2: -0.1549, l3: -2.7290);\tperf: 0.8402\n",
            ".. checkpoint at iteration 5000 ..\n",
            "Epoch   203: reducing learning rate of group 0 to 9.7656e-07.\n",
            "Epoch   217: reducing learning rate of group 0 to 4.8828e-07.\n",
            "epoch 9: 78.6598s;\tloss: -1.4805 (l1: 1.4035, l2: -0.1317, l3: -2.7523);\tperf: 0.8446\n",
            "Epoch   228: reducing learning rate of group 0 to 2.4414e-07.\n",
            "Epoch   242: reducing learning rate of group 0 to 1.2207e-07.\n",
            "epoch 10: 78.8325s;\tloss: -1.4876 (l1: 1.4038, l2: -0.1374, l3: -2.7540);\tperf: 0.8398\n",
            "Epoch   253: reducing learning rate of group 0 to 6.1035e-08.\n",
            "Epoch   267: reducing learning rate of group 0 to 3.0518e-08.\n",
            "epoch 11: 78.1720s;\tloss: -1.4988 (l1: 1.4039, l2: -0.1352, l3: -2.7675);\tperf: 0.8476\n",
            "Epoch   278: reducing learning rate of group 0 to 1.5259e-08.\n",
            "epoch 12: 80.0623s;\tloss: -1.4916 (l1: 1.4039, l2: -0.1357, l3: -2.7598);\tperf: 0.8471\n",
            ".. checkpoint at iteration 7500 ..\n",
            "epoch 13: 79.0602s;\tloss: -1.4565 (l1: 1.4039, l2: -0.1019, l3: -2.7585);\tperf: 0.8418\n",
            "epoch 14: 79.9730s;\tloss: -1.4691 (l1: 1.4039, l2: -0.1235, l3: -2.7495);\tperf: 0.8494\n",
            "epoch 15: 81.8631s;\tloss: -1.4888 (l1: 1.4039, l2: -0.1354, l3: -2.7573);\tperf: 0.8471\n",
            "epoch 16: 78.0423s;\tloss: -1.4916 (l1: 1.4039, l2: -0.1522, l3: -2.7433);\tperf: 0.8482\n",
            ".. checkpoint at iteration 10000 ..\n",
            "epoch 17: 79.4972s;\tloss: -1.4833 (l1: 1.4039, l2: -0.1441, l3: -2.7431);\tperf: 0.8546\n",
            "epoch 18: 78.9910s;\tloss: -1.5233 (l1: 1.4039, l2: -0.1481, l3: -2.7791);\tperf: 0.8485\n",
            "epoch 19: 79.0331s;\tloss: -1.4870 (l1: 1.4039, l2: -0.1368, l3: -2.7541);\tperf: 0.8425\n",
            "epoch 20: 80.6501s;\tloss: -1.4981 (l1: 1.4039, l2: -0.1360, l3: -2.7660);\tperf: 0.8464\n",
            "training time: 1586.7761433124542s\n",
            "Log saved to experiments/2021-01-17_223358/log/log.json\n",
            "Log data saved to experiments/2021-01-17_223358/log/data/1.npz\n",
            "total time: 1591.0419738292694s\n",
            "x.shape == torch.Size([5000, 2])\n",
            "s.shape == (5000, 2)\n",
            "u.shape == torch.Size([5000, 5])\n",
            "z_est.shape == (5000, 2)\n",
            "EVAL PERFORMANCE: 0.8824160631599032\n",
            "DONE.\n",
            "Namespace(anneal=False, batch_size=8, cuda=True, data_args='1000_5_2_2_3_2_gauss_xtanh_u_f', depth=3, epochs=20, file=None, flow_length=10, flow_type='RQSplineFlow', gpu_id='0', hidden_dim=50, i_what='iVAE', latent_dim=None, log_freq=25, lr=0.001, lr_drop_factor=0.5, lr_patience=10, max_iter=None, nat_param_act='Sigmoid', no_log=False, num_bins=8, preload=True, seed=1)\n",
            "training on Tesla T4\n",
            "data loaded on cuda\n",
            "setup time: 4.189085245132446s\n",
            "Beginning training for exp: 1\n",
            ".. checkpoint at iteration 0 ..\n",
            "epoch 1: 4.8459s;\tloss: 1.7704;\tperf: 0.8609\n",
            "epoch 2: 4.2971s;\tloss: 1.1301;\tperf: 0.8725\n",
            "Epoch    61: reducing learning rate of group 0 to 5.0000e-04.\n",
            "epoch 3: 4.3646s;\tloss: 1.1995;\tperf: 0.8364\n",
            "Epoch    82: reducing learning rate of group 0 to 2.5000e-04.\n",
            "Epoch    97: reducing learning rate of group 0 to 1.2500e-04.\n",
            "epoch 4: 4.3764s;\tloss: 0.9740;\tperf: 0.8498\n",
            ".. checkpoint at iteration 2500 ..\n",
            "Epoch   108: reducing learning rate of group 0 to 6.2500e-05.\n",
            "Epoch   123: reducing learning rate of group 0 to 3.1250e-05.\n",
            "epoch 5: 4.6372s;\tloss: 0.8828;\tperf: 0.8327\n",
            "Epoch   145: reducing learning rate of group 0 to 1.5625e-05.\n",
            "epoch 6: 4.9424s;\tloss: 0.9814;\tperf: 0.8433\n",
            "Epoch   156: reducing learning rate of group 0 to 7.8125e-06.\n",
            "Epoch   167: reducing learning rate of group 0 to 3.9063e-06.\n",
            "epoch 7: 4.7155s;\tloss: 0.9537;\tperf: 0.8296\n",
            "Epoch   178: reducing learning rate of group 0 to 1.9531e-06.\n",
            "Epoch   189: reducing learning rate of group 0 to 9.7656e-07.\n",
            "Epoch   200: reducing learning rate of group 0 to 4.8828e-07.\n",
            "epoch 8: 4.7411s;\tloss: 0.8822;\tperf: 0.8369\n",
            ".. checkpoint at iteration 5000 ..\n",
            "Epoch   211: reducing learning rate of group 0 to 2.4414e-07.\n",
            "epoch 9: 4.3259s;\tloss: 1.0490;\tperf: 0.8450\n",
            "Epoch   232: reducing learning rate of group 0 to 1.2207e-07.\n",
            "Epoch   243: reducing learning rate of group 0 to 6.1035e-08.\n",
            "epoch 10: 4.8047s;\tloss: 1.0813;\tperf: 0.8398\n",
            "Epoch   254: reducing learning rate of group 0 to 3.0518e-08.\n",
            "Epoch   265: reducing learning rate of group 0 to 1.5259e-08.\n",
            "epoch 11: 4.7672s;\tloss: 0.9160;\tperf: 0.8380\n",
            "epoch 12: 4.7707s;\tloss: 0.7964;\tperf: 0.8517\n",
            ".. checkpoint at iteration 7500 ..\n",
            "epoch 13: 4.5280s;\tloss: 0.9138;\tperf: 0.8405\n",
            "epoch 14: 4.3918s;\tloss: 0.8235;\tperf: 0.8409\n",
            "epoch 15: 4.4900s;\tloss: 0.8804;\tperf: 0.8457\n",
            "epoch 16: 4.3863s;\tloss: 0.8843;\tperf: 0.8265\n",
            ".. checkpoint at iteration 10000 ..\n",
            "epoch 17: 4.3447s;\tloss: 0.8048;\tperf: 0.8348\n",
            "epoch 18: 4.2926s;\tloss: 0.8877;\tperf: 0.8430\n",
            "epoch 19: 4.4637s;\tloss: 0.8478;\tperf: 0.8428\n",
            "epoch 20: 4.8852s;\tloss: 0.9955;\tperf: 0.8516\n",
            "training time: 91.4173743724823s\n",
            "Log saved to experiments/2021-01-17_230031/log/log.json\n",
            "Log data saved to experiments/2021-01-17_230031/log/data/1.npz\n",
            "total time: 95.60645961761475s\n",
            "x.shape == torch.Size([5000, 2])\n",
            "s.shape == (5000, 2)\n",
            "u.shape == torch.Size([5000, 5])\n",
            "z_est.shape == (5000, 2)\n",
            "EVAL PERFORMANCE: 0.8425548979102225\n",
            "DONE.\n",
            "Namespace(anneal=False, batch_size=8, cuda=True, data_args='1000_5_2_2_3_2_gauss_xtanh_u_f', depth=3, epochs=20, file=None, flow_length=10, flow_type='RQNSF_AG', gpu_id='0', hidden_dim=50, i_what='iFlow', latent_dim=None, log_freq=25, lr=0.001, lr_drop_factor=0.5, lr_patience=10, max_iter=None, nat_param_act='Softplus', no_log=False, num_bins=8, preload=True, seed=1)\n",
            "training on Tesla T4\n",
            "data loaded on cuda\n",
            "setup time: 4.263744354248047s\n",
            "Beginning training for exp: 1\n",
            ".. checkpoint at iteration 0 ..\n",
            "epoch 1: 79.5735s;\tloss: 0.2236 (l1: 1.5220, l2: -0.0633, l3: -1.2351);\tperf: 0.7777\n",
            "Epoch    40: reducing learning rate of group 0 to 5.0000e-04.\n",
            "epoch 2: 79.6696s;\tloss: -0.2371 (l1: 1.6564, l2: -0.4697, l3: -1.4237);\tperf: 0.7941\n",
            "Epoch    69: reducing learning rate of group 0 to 2.5000e-04.\n",
            "epoch 3: 79.9736s;\tloss: -0.8140 (l1: 1.7823, l2: -0.7332, l3: -1.8631);\tperf: 0.7874\n",
            "epoch 4: 78.4938s;\tloss: -1.1290 (l1: 1.8992, l2: -0.8596, l3: -2.1686);\tperf: 0.8266\n",
            ".. checkpoint at iteration 2500 ..\n",
            "Epoch   107: reducing learning rate of group 0 to 1.2500e-04.\n",
            "epoch 5: 80.8606s;\tloss: -1.1297 (l1: 1.9735, l2: -1.0104, l3: -2.0929);\tperf: 0.8083\n",
            "Epoch   134: reducing learning rate of group 0 to 6.2500e-05.\n",
            "epoch 6: 79.0717s;\tloss: -1.5195 (l1: 2.0311, l2: -1.0983, l3: -2.4523);\tperf: 0.8425\n",
            "Epoch   157: reducing learning rate of group 0 to 3.1250e-05.\n",
            "epoch 7: 78.6099s;\tloss: -1.5968 (l1: 2.0416, l2: -1.1327, l3: -2.5057);\tperf: 0.8348\n",
            "Epoch   182: reducing learning rate of group 0 to 1.5625e-05.\n",
            "epoch 8: 79.3154s;\tloss: -1.6110 (l1: 2.0494, l2: -1.1533, l3: -2.5071);\tperf: 0.8339\n",
            ".. checkpoint at iteration 5000 ..\n",
            "Epoch   209: reducing learning rate of group 0 to 7.8125e-06.\n",
            "epoch 9: 81.2280s;\tloss: -1.6401 (l1: 2.0571, l2: -1.1977, l3: -2.4994);\tperf: 0.8262\n",
            "Epoch   234: reducing learning rate of group 0 to 3.9063e-06.\n",
            "Epoch   245: reducing learning rate of group 0 to 1.9531e-06.\n",
            "epoch 10: 79.3257s;\tloss: -1.6345 (l1: 2.0604, l2: -1.1951, l3: -2.4999);\tperf: 0.8289\n",
            "Epoch   259: reducing learning rate of group 0 to 9.7656e-07.\n",
            "Epoch   270: reducing learning rate of group 0 to 4.8828e-07.\n",
            "epoch 11: 78.8305s;\tloss: -1.6330 (l1: 2.0614, l2: -1.1791, l3: -2.5153);\tperf: 0.8306\n",
            "Epoch   284: reducing learning rate of group 0 to 2.4414e-07.\n",
            "Epoch   295: reducing learning rate of group 0 to 1.2207e-07.\n",
            "epoch 12: 79.4241s;\tloss: -1.6491 (l1: 2.0616, l2: -1.1824, l3: -2.5283);\tperf: 0.8391\n",
            ".. checkpoint at iteration 7500 ..\n",
            "Epoch   306: reducing learning rate of group 0 to 6.1035e-08.\n",
            "Epoch   317: reducing learning rate of group 0 to 3.0518e-08.\n",
            "epoch 13: 80.2856s;\tloss: -1.6584 (l1: 2.0616, l2: -1.1921, l3: -2.5280);\tperf: 0.8287\n",
            "Epoch   328: reducing learning rate of group 0 to 1.5259e-08.\n",
            "epoch 14: 78.5551s;\tloss: -1.6459 (l1: 2.0616, l2: -1.1732, l3: -2.5343);\tperf: 0.8310\n",
            "epoch 15: 78.4459s;\tloss: -1.6600 (l1: 2.0616, l2: -1.1752, l3: -2.5465);\tperf: 0.8402\n",
            "epoch 16: 77.6995s;\tloss: -1.6561 (l1: 2.0616, l2: -1.1812, l3: -2.5364);\tperf: 0.8368\n",
            ".. checkpoint at iteration 10000 ..\n",
            "epoch 17: 78.2225s;\tloss: -1.6475 (l1: 2.0616, l2: -1.1763, l3: -2.5327);\tperf: 0.8380\n",
            "epoch 18: 77.4783s;\tloss: -1.6527 (l1: 2.0616, l2: -1.1846, l3: -2.5297);\tperf: 0.8343\n",
            "epoch 19: 78.2110s;\tloss: -1.6405 (l1: 2.0616, l2: -1.1735, l3: -2.5286);\tperf: 0.8333\n",
            "epoch 20: 78.2280s;\tloss: -1.6630 (l1: 2.0616, l2: -1.1841, l3: -2.5405);\tperf: 0.8216\n",
            "training time: 1581.5286929607391s\n",
            "Log saved to experiments/2021-01-17_230208/log/log.json\n",
            "Log data saved to experiments/2021-01-17_230208/log/data/1.npz\n",
            "total time: 1585.7924373149872s\n",
            "x.shape == torch.Size([5000, 2])\n",
            "s.shape == (5000, 2)\n",
            "u.shape == torch.Size([5000, 5])\n",
            "z_est.shape == (5000, 2)\n",
            "EVAL PERFORMANCE: 0.8395037625703867\n",
            "DONE.\n"
          ],
          "name": "stdout"
        }
      ]
    },
    {
      "cell_type": "markdown",
      "metadata": {
        "id": "Zng2e5y4XA6V"
      },
      "source": [
        "# Create plots"
      ]
    },
    {
      "cell_type": "code",
      "metadata": {
        "id": "aIR9yiL3QM7_"
      },
      "source": [
        "def plot_2d(s, x, u, z_est_iFlow, z_est_iVAE):\n",
        "  \"\"\"\n",
        "  s : true latent variables, source of the observations\n",
        "  x : observations, the inputs of iFlow and iVAE models\n",
        "  z_est_iFlow : predictions of the iFlow model\n",
        "  z_est_iVAE : predictions of the iVAE model \n",
        "  \"\"\"\n",
        "  fig, (ax1, ax2, ax3, ax4) = plt.subplots(1, 4)\n",
        "  fig.tight_layout()\n",
        "\n",
        "  n, n_segments = u.shape\n",
        "  n_per_segment = int(n / n_segments)\n",
        "  for i in range(n_segments):\n",
        "    (start, stop) = i * n_per_segment, (i + 1) * n_per_segment\n",
        "    ax1.scatter(s[start:stop,0], s[start:stop,1], s=1)\n",
        "    ax1.set_xticks([])\n",
        "    ax1.set_yticks([])\n",
        "    ax1.set_title(\"Original sources\")\n",
        "    ax2.scatter(x[start:stop,0], x[start:stop,1], s=1)\n",
        "    ax2.set_xticks([])\n",
        "    ax2.set_yticks([])\n",
        "    ax2.set_title(\"Observations\")\n",
        "    ax3.scatter(z_est_iFlow[start:stop,0], z_est_iFlow[start:stop,1], s=1)\n",
        "    ax3.set_xticks([])\n",
        "    ax3.set_yticks([])\n",
        "    ax3.set_title(\"iFlow\")\n",
        "    ax4.scatter(z_est_iVAE[start:stop,0], z_est_iVAE[start:stop,1], s=1)\n",
        "    ax4.set_xticks([])\n",
        "    ax4.set_yticks([])\n",
        "    ax4.set_title(\"iVAE\")\n",
        "  plt.show()\n",
        "  return\n"
      ],
      "execution_count": 2,
      "outputs": []
    },
    {
      "cell_type": "code",
      "metadata": {
        "id": "3NV36ImzV640",
        "colab": {
          "base_uri": "https://localhost:8080/",
          "height": 248
        },
        "outputId": "20623c7e-a9bd-4238-c42b-15774570cb20"
      },
      "source": [
        "for seed in seeds:\n",
        "  # load data\n",
        "  path_to_dataset = \"drive/MyDrive/iFlow/data/1/\"\n",
        "  with np.load(path_to_dataset + \"tcl_1000_5_2_2_3_\" + str(seed) + \"_gauss_xtanh_u.npz\") as data:\n",
        "    x = data['x']\n",
        "    u = data['u']\n",
        "    s = data['s']\n",
        "    m = data['m']\n",
        "    L = data['L']\n",
        "  # load predictions\n",
        "  path_to_z_est = \"drive/MyDrive/iFlow/z_est/\" + str(seed) + \"/\"\n",
        "  z_est_iFlow = np.load(path_to_z_est + \"z_est_iFlow.npy\")\n",
        "  z_est_iVAE = np.load(path_to_z_est + \"z_est_iVAE.npy\")\n",
        "  # plot\n",
        "  plot_2d(s, x, u, z_est_iFlow, z_est_iVAE)"
      ],
      "execution_count": 1,
      "outputs": [
        {
          "output_type": "error",
          "ename": "NameError",
          "evalue": "ignored",
          "traceback": [
            "\u001b[0;31m---------------------------------------------------------------------------\u001b[0m",
            "\u001b[0;31mNameError\u001b[0m                                 Traceback (most recent call last)",
            "\u001b[0;32m<ipython-input-1-eb9227e31d56>\u001b[0m in \u001b[0;36m<module>\u001b[0;34m()\u001b[0m\n\u001b[0;32m----> 1\u001b[0;31m \u001b[0;32mfor\u001b[0m \u001b[0mseed\u001b[0m \u001b[0;32min\u001b[0m \u001b[0mseeds\u001b[0m\u001b[0;34m:\u001b[0m\u001b[0;34m\u001b[0m\u001b[0;34m\u001b[0m\u001b[0m\n\u001b[0m\u001b[1;32m      2\u001b[0m   \u001b[0;31m# load data\u001b[0m\u001b[0;34m\u001b[0m\u001b[0;34m\u001b[0m\u001b[0;34m\u001b[0m\u001b[0m\n\u001b[1;32m      3\u001b[0m   \u001b[0mpath_to_dataset\u001b[0m \u001b[0;34m=\u001b[0m \u001b[0;34m\"drive/MyDrive/iFlow/data/1/\"\u001b[0m\u001b[0;34m\u001b[0m\u001b[0;34m\u001b[0m\u001b[0m\n\u001b[1;32m      4\u001b[0m   \u001b[0;32mwith\u001b[0m \u001b[0mnp\u001b[0m\u001b[0;34m.\u001b[0m\u001b[0mload\u001b[0m\u001b[0;34m(\u001b[0m\u001b[0mpath_to_dataset\u001b[0m \u001b[0;34m+\u001b[0m \u001b[0;34m\"tcl_1000_5_2_2_3_\"\u001b[0m \u001b[0;34m+\u001b[0m \u001b[0mstr\u001b[0m\u001b[0;34m(\u001b[0m\u001b[0mseed\u001b[0m\u001b[0;34m)\u001b[0m \u001b[0;34m+\u001b[0m \u001b[0;34m\"_gauss_xtanh_u.npz\"\u001b[0m\u001b[0;34m)\u001b[0m \u001b[0;32mas\u001b[0m \u001b[0mdata\u001b[0m\u001b[0;34m:\u001b[0m\u001b[0;34m\u001b[0m\u001b[0;34m\u001b[0m\u001b[0m\n\u001b[1;32m      5\u001b[0m     \u001b[0mx\u001b[0m \u001b[0;34m=\u001b[0m \u001b[0mdata\u001b[0m\u001b[0;34m[\u001b[0m\u001b[0;34m'x'\u001b[0m\u001b[0;34m]\u001b[0m\u001b[0;34m\u001b[0m\u001b[0;34m\u001b[0m\u001b[0m\n",
            "\u001b[0;31mNameError\u001b[0m: name 'seeds' is not defined"
          ]
        }
      ]
    },
    {
      "cell_type": "code",
      "metadata": {
        "id": "2r3pl0luqu0o"
      },
      "source": [
        ""
      ],
      "execution_count": 13,
      "outputs": []
    },
    {
      "cell_type": "code",
      "metadata": {
        "id": "LO8sKPo4CAVb"
      },
      "source": [
        "\n",
        "  "
      ],
      "execution_count": 30,
      "outputs": []
    },
    {
      "cell_type": "code",
      "metadata": {
        "id": "Rrnz8JbTucN8"
      },
      "source": [
        ""
      ],
      "execution_count": null,
      "outputs": []
    }
  ]
}