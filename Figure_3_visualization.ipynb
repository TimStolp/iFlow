{
 "cells": [
  {
   "cell_type": "code",
   "execution_count": 22,
   "metadata": {},
   "outputs": [],
   "source": [
    "import numpy as np\n",
    "import torch\n",
    "import os\n",
    "from lib.models import iVAE\n",
    "from lib.iFlow import iFlow\n",
    "from lib.metrics import mean_corr_coef as mcc\n",
    "from scipy.optimize import linear_sum_assignment\n",
    "import matplotlib.pyplot as plt\n",
    "\n",
    "from lib.data import DataLoaderGPU"
   ]
  },
  {
   "cell_type": "code",
   "execution_count": 23,
   "metadata": {},
   "outputs": [
    {
     "name": "stdout",
     "output_type": "stream",
     "text": [
      "/home/feng/Desktop/iFlow\n"
     ]
    }
   ],
   "source": [
    "ROOT_DIR = (os.path.abspath(''))\n",
    "MODEL_DIR = os.path.join(ROOT_DIR, \"pt_models\")\n",
    "device = torch.device(\"cuda\" if torch.cuda.is_available() else \"cpu\")\n",
    "print(ROOT_DIR)"
   ]
  },
  {
   "cell_type": "code",
   "execution_count": 24,
   "metadata": {},
   "outputs": [],
   "source": [
    "def correlation_coefficients(x, y, method='pearson'):\n",
    "    \"\"\"\n",
    "    A numpy implementation of the mean correlation coefficient metric.\n",
    "\n",
    "    :param x: numpy.ndarray\n",
    "    :param y: numpy.ndarray\n",
    "    :param method: str, optional\n",
    "            The method used to compute the correlation coefficients.\n",
    "                The options are 'pearson' and 'spearman'\n",
    "                'pearson':\n",
    "                    use Pearson's correlation coefficient\n",
    "                'spearman':\n",
    "                    use Spearman's nonparametric rank correlation coefficient\n",
    "    :return: float\n",
    "    \"\"\"\n",
    "    d = x.shape[1]\n",
    "    if method == 'pearson':\n",
    "        cc = np.corrcoef(x, y, rowvar=False)[:d, d:]\n",
    "    elif method == 'spearman':\n",
    "        cc = spearmanr(x, y)[0][:d, d:]\n",
    "    else:\n",
    "        raise ValueError('not a valid method: {}'.format(method))\n",
    "    cc_matrix = np.abs(cc)\n",
    "\n",
    "    corr_coefs = cc_matrix[linear_sum_assignment(-1 * cc_matrix)] #.mean()\n",
    "    return corr_coefs, cc_matrix"
   ]
  },
  {
   "cell_type": "markdown",
   "metadata": {},
   "source": [
    "# Run model and create dataset (only once)"
   ]
  },
  {
   "cell_type": "markdown",
   "metadata": {},
   "source": [
    "### Fill in script arguments"
   ]
  },
  {
   "cell_type": "code",
   "execution_count": 25,
   "metadata": {},
   "outputs": [],
   "source": [
    "# Specify dataset string (same as first argument in python main.py command)\n",
    "seed = 49\n",
    "data_args = \"1000_40_5_5_3_\" + str(seed) + \"_gauss_xtanh_u_f\"\n",
    "batch_size = 64\n",
    "epochs = 20\n",
    "i_what = 'iFlow' # 'iVAE' or 'iFLow'\n"
   ]
  },
  {
   "cell_type": "markdown",
   "metadata": {},
   "source": [
    "#### Run model"
   ]
  },
  {
   "cell_type": "code",
   "execution_count": 26,
   "metadata": {},
   "outputs": [],
   "source": [
    "# !python main.py --data-args=$data_args --epochs=$epochs --batch-size=$batch_size --i-what=$i_what --cuda --flow_type=RQNSF_AG --nat_param_act=Softplus --preload-gpu --lr_drop_factor=0.25"
   ]
  },
  {
   "cell_type": "markdown",
   "metadata": {},
   "source": [
    "### Load model checkpoint"
   ]
  },
  {
   "cell_type": "code",
   "execution_count": 27,
   "metadata": {},
   "outputs": [
    {
     "name": "stdout",
     "output_type": "stream",
     "text": [
      "DATA_PATH = data/1/tcl_1000_40_5_5_3_49_gauss_xtanh_u.npz\n",
      "data loaded on cuda\n"
     ]
    }
   ],
   "source": [
    "DATA_PATH = \"data/1/\" + \"tcl_\" + data_args[:-2] + \".npz\"\n",
    "print(\"DATA_PATH =\", DATA_PATH)\n",
    "# DATA_PATH = \"data/1/tcl_100_40_5_5_3_1_gauss_xtanh_u.npz\"\n",
    "\n",
    "# Arguments (metadata, from argparse in main.py) have to correspond to selected dataset and model properties\n",
    "metadata = {'file': DATA_PATH, 'path':DATA_PATH, 'batch_size': batch_size, \n",
    "            'epochs': epochs, 'device': device, 'seed': 1, 'i_what': i_what,\n",
    "            \n",
    "            'max_iter': None, 'hidden_dim': 50, 'depth': 3, \n",
    "            'lr': 1e-3, 'cuda': True, 'preload': True, \n",
    "            'anneal': False, 'log_freq': 25,  \n",
    "            'flow_type': 'RQNSF_AG', 'num_bins': 8, \n",
    "            'nat_param_act': 'Softplus', 'gpu_id': '0', \n",
    "            'flow_length': 10, 'lr_drop_factor': 0.25, \n",
    "            'lr_patience': 10}\n",
    "\n",
    "# Get arguments for dataset properties\n",
    "train_loader = DataLoaderGPU(DATA_PATH, shuffle=True, batch_size=batch_size)\n",
    "data_dim, latent_dim, aux_dim = train_loader.get_dims()\n",
    "metadata.update(train_loader.get_metadata())"
   ]
  },
  {
   "cell_type": "markdown",
   "metadata": {},
   "source": [
    "### Load pre-trained model"
   ]
  },
  {
   "cell_type": "code",
   "execution_count": 28,
   "metadata": {
    "scrolled": false
   },
   "outputs": [],
   "source": [
    "# CKPT_PATH = \"experiments/2021-01-20_114830/ckpt/1/1_ckpt_20.pth\"\n",
    "checkpoint = torch.load(\"pt_models/1_ckpt_10000.pth\")\n",
    "\n",
    "# Create model\n",
    "model = None\n",
    "if i_what == \"iFlow\":\n",
    "    model = iFlow(args=metadata).to(device)\n",
    "elif i_what == \"iVAE\":\n",
    "    splitted_args = data_args.split(\"_\")\n",
    "    model = iVAE(int(splitted_args[2]), # latent_dim\n",
    "                 int(splitted_args[3]), # data_dim\n",
    "                 int(splitted_args[1]), # aux_dim\n",
    "                 n_layers=metadata['depth'],\n",
    "                 activation='lrelu',\n",
    "                 device=device,\n",
    "                 hidden_dim=metadata['hidden_dim'],\n",
    "                 anneal=metadata['anneal']) # False\n",
    "\n",
    "model.load_state_dict(checkpoint['model_state_dict'])\n",
    "model.eval()\n",
    "pass"
   ]
  },
  {
   "cell_type": "markdown",
   "metadata": {},
   "source": [
    "### Evaluate model performance"
   ]
  },
  {
   "cell_type": "code",
   "execution_count": 17,
   "metadata": {},
   "outputs": [
    {
     "name": "stdout",
     "output_type": "stream",
     "text": [
      "x.shape == torch.Size([40, 5])\n",
      "s.shape == (40, 5)\n",
      "u.shape == torch.Size([40, 40])\n",
      "z_est.shape == (40, 5)\n",
      "EVAL PERFORMANCE: 0.5582158697012387\n",
      "CORRELATION MATRIX: \n",
      "[[0.56918067 0.18504664 0.08636629 0.28422478 0.5096918 ]\n",
      " [0.38107235 0.5871936  0.47197922 0.41432882 0.20630038]\n",
      " [0.41622837 0.58991993 0.33947031 0.73630041 0.14785827]\n",
      " [0.36438782 0.0135315  0.20086159 0.09723211 0.51233726]\n",
      " [0.39510622 0.19657346 0.3860674  0.05553397 0.02312474]]\n",
      "CORRELATION COEFFICIENTS: [0.56918067 0.5871936  0.73630041 0.51233726 0.3860674 ]\n",
      "DONE.\n"
     ]
    }
   ],
   "source": [
    "if model.__class__.__name__ == 'iFlow':\n",
    "    import operator\n",
    "    from functools import reduce\n",
    "    total_num_examples = reduce(operator.mul, map(int, data_args.split('_')[:2]))\n",
    "    model.set_mask(total_num_examples)\n",
    "\n",
    "A = np.load(DATA_PATH)\n",
    "x = A['x']\n",
    "x = torch.from_numpy(x).to(device)\n",
    "print(\"x.shape ==\", x.shape)\n",
    "\n",
    "s = A['s']\n",
    "print(\"s.shape ==\", s.shape)\n",
    "\n",
    "u = A['u'] \n",
    "u = torch.from_numpy(u).to(device)\n",
    "print(\"u.shape ==\", u.shape)\n",
    "\n",
    "if model.__class__.__name__ == 'iVAE':\n",
    "    _, z_est = model.elbo(x, u)\n",
    "elif model.__class__.__name__ == 'iFlow':\n",
    "    z_est, _ = model.inference(x, u)\n",
    "\n",
    "z_est = z_est.cpu().detach().numpy()\n",
    "print(\"z_est.shape ==\", z_est.shape)\n",
    "\n",
    "perf = mcc(s, z_est)\n",
    "print(\"EVAL PERFORMANCE: {}\".format(perf))\n",
    "\n",
    "corr_coefs, cc_matrix = correlation_coefficients(s, z_est)\n",
    "print(\"CORRELATION MATRIX: \\n{}\".format(cc_matrix))\n",
    "print(\"CORRELATION COEFFICIENTS: {}\".format(corr_coefs))\n",
    "print(\"DONE.\")\n",
    "\n"
   ]
  },
  {
   "cell_type": "code",
   "execution_count": 7,
   "metadata": {},
   "outputs": [
    {
     "name": "stdout",
     "output_type": "stream",
     "text": [
      "tensor([[-0.4540,  0.7263, -0.1753,  0.0246,  0.0113]], device='cuda:0')\n",
      "tensor([[ 0.4407, -0.0201, -0.3536, -0.6417,  0.8159]], device='cuda:0',\n",
      "       grad_fn=<SliceBackward>)\n",
      "[[-3.1271846 -1.0956014 -3.5012622  0.6479646  3.3876839]]\n"
     ]
    }
   ],
   "source": [
    "# B = 100\n",
    "\n",
    "# if model.__class__.__name__ == 'iFlow':\n",
    "    \n",
    "#     # Update batch size to fit evaluation batch\n",
    "#     model.bs = B\n",
    "#     model.set_mask(model.bs)\n",
    "    \n",
    "#     z_est, _ = model.inference(x[:B], u[:B])\n",
    "\n",
    "# print(x[:1])\n",
    "# print(z_est[:1])\n",
    "# print(s[:1])\n"
   ]
  },
  {
   "cell_type": "code",
   "execution_count": null,
   "metadata": {},
   "outputs": [],
   "source": [
    "# x_est, determinants = model.nf._transform.inverse(x[0:2])\n",
    "\n",
    "# print(x_est)\n",
    "# bla = model.nf._transform.inverse(z_est[0:2])\n",
    "# print(bla)"
   ]
  },
  {
   "cell_type": "markdown",
   "metadata": {},
   "source": [
    "### Visualizations: 1000 points and 40 segments, plot 40 latent-source point pairs + total CC score"
   ]
  },
  {
   "cell_type": "code",
   "execution_count": 10,
   "metadata": {},
   "outputs": [
    {
     "ename": "NameError",
     "evalue": "name 'z_est' is not defined",
     "output_type": "error",
     "traceback": [
      "\u001b[0;31m---------------------------------------------------------------------------\u001b[0m",
      "\u001b[0;31mNameError\u001b[0m                                 Traceback (most recent call last)",
      "\u001b[0;32m<ipython-input-10-5c21010f798e>\u001b[0m in \u001b[0;36m<module>\u001b[0;34m\u001b[0m\n\u001b[1;32m      2\u001b[0m \u001b[0mpoints_per_seg\u001b[0m \u001b[0;34m=\u001b[0m \u001b[0mn\u001b[0m \u001b[0;34m//\u001b[0m \u001b[0mn_segments\u001b[0m\u001b[0;34m\u001b[0m\u001b[0;34m\u001b[0m\u001b[0m\n\u001b[1;32m      3\u001b[0m \u001b[0msource\u001b[0m \u001b[0;34m=\u001b[0m \u001b[0ms\u001b[0m\u001b[0;34m\u001b[0m\u001b[0;34m\u001b[0m\u001b[0m\n\u001b[0;32m----> 4\u001b[0;31m \u001b[0mest\u001b[0m \u001b[0;34m=\u001b[0m \u001b[0mz_est\u001b[0m\u001b[0;34m\u001b[0m\u001b[0;34m\u001b[0m\u001b[0m\n\u001b[0m\u001b[1;32m      5\u001b[0m \u001b[0;34m\u001b[0m\u001b[0m\n\u001b[1;32m      6\u001b[0m \u001b[0;31m# Get correlation coefficients\u001b[0m\u001b[0;34m\u001b[0m\u001b[0;34m\u001b[0m\u001b[0;34m\u001b[0m\u001b[0m\n",
      "\u001b[0;31mNameError\u001b[0m: name 'z_est' is not defined"
     ]
    }
   ],
   "source": [
    "n, n_segments = u.shape\n",
    "points_per_seg = n // n_segments\n",
    "source = s\n",
    "est = z_est\n",
    "\n",
    "# Get correlation coefficients\n",
    "corr_coefs, _ = correlation_coefficients(source, est)\n",
    "print('MCC = ', mcc(source, est))\n",
    "\n",
    "# Standardize both signals (mean=0, std=1)\n",
    "source = (source - np.mean(source, axis=0)) / np.std(source, axis=0)\n",
    "est = (est - np.mean(est, axis=0)) / np.std(est, axis=0)\n",
    "\n",
    "# Only keep 1 sample per segment (instead of 1000)\n",
    "source_subset = np.zeros((40, 5))\n",
    "est_subset = np.zeros((40, 5))\n",
    "for i in range(n_segments):\n",
    "    \n",
    "    source_subset[i] = source[i*points_per_seg + 42, :]\n",
    "    est_subset[i] = est[i*points_per_seg + 42, :]\n",
    "    \n",
    "\n",
    "fig, axes = plt.subplots(1, 5, figsize=(15, 3))\n",
    "fig.tight_layout()\n",
    "\n",
    "for i in range(5):\n",
    "    axes[i].plot(source_subset[:, i], linestyle='-.')\n",
    "    axes[i].plot(est_subset[:, i], linestyle='-.')\n",
    "    axes[i].set_title(\"corr: \" + str(round(corr_coefs[i], 4)))\n",
    "plt.show()\n",
    "\n"
   ]
  },
  {
   "cell_type": "code",
   "execution_count": 43,
   "metadata": {},
   "outputs": [
    {
     "data": {
      "image/png": "[encoded data removed]",
      "text/plain": [
       "<Figure size 1080x216 with 1 Axes>"
      ]
     },
     "metadata": {
      "needs_background": "light"
     },
     "output_type": "display_data"
    }
   ],
   "source": [
    "# plt.figure(figsize=(15, 3))\n",
    "# plt.plot(source[:, 1])\n",
    "# plt.plot(est[:, 1])\n",
    "# plt.show()"
   ]
  },
  {
   "cell_type": "markdown",
   "metadata": {},
   "source": [
    "#### Outdated: Old code for plotting mean signals (40 segmends, 1000 points)"
   ]
  },
  {
   "cell_type": "code",
   "execution_count": 12,
   "metadata": {},
   "outputs": [
    {
     "ename": "NameError",
     "evalue": "name 's' is not defined",
     "output_type": "error",
     "traceback": [
      "\u001b[0;31m---------------------------------------------------------------------------\u001b[0m",
      "\u001b[0;31mNameError\u001b[0m                                 Traceback (most recent call last)",
      "\u001b[0;32m<ipython-input-12-edbf7a1e35d1>\u001b[0m in \u001b[0;36m<module>\u001b[0;34m\u001b[0m\n\u001b[1;32m      1\u001b[0m \u001b[0;31m# Get correlation coefficients\u001b[0m\u001b[0;34m\u001b[0m\u001b[0;34m\u001b[0m\u001b[0;34m\u001b[0m\u001b[0m\n\u001b[0;32m----> 2\u001b[0;31m \u001b[0mcorr_coefs\u001b[0m\u001b[0;34m,\u001b[0m \u001b[0m_\u001b[0m \u001b[0;34m=\u001b[0m \u001b[0mcorrelation_coefficients\u001b[0m\u001b[0;34m(\u001b[0m\u001b[0ms\u001b[0m\u001b[0;34m,\u001b[0m \u001b[0mz_est\u001b[0m\u001b[0;34m)\u001b[0m\u001b[0;34m\u001b[0m\u001b[0;34m\u001b[0m\u001b[0m\n\u001b[0m\u001b[1;32m      3\u001b[0m \u001b[0;34m\u001b[0m\u001b[0m\n\u001b[1;32m      4\u001b[0m \u001b[0mn\u001b[0m\u001b[0;34m,\u001b[0m \u001b[0mn_segments\u001b[0m \u001b[0;34m=\u001b[0m \u001b[0mu\u001b[0m\u001b[0;34m.\u001b[0m\u001b[0mshape\u001b[0m\u001b[0;34m\u001b[0m\u001b[0;34m\u001b[0m\u001b[0m\n\u001b[1;32m      5\u001b[0m \u001b[0mmean_source\u001b[0m \u001b[0;34m=\u001b[0m \u001b[0mnp\u001b[0m\u001b[0;34m.\u001b[0m\u001b[0mzeros\u001b[0m\u001b[0;34m(\u001b[0m\u001b[0;34m(\u001b[0m\u001b[0;36m5\u001b[0m\u001b[0;34m,\u001b[0m \u001b[0mn_segments\u001b[0m\u001b[0;34m)\u001b[0m\u001b[0;34m)\u001b[0m\u001b[0;34m\u001b[0m\u001b[0;34m\u001b[0m\u001b[0m\n",
      "\u001b[0;31mNameError\u001b[0m: name 's' is not defined"
     ]
    }
   ],
   "source": [
    "# Get correlation coefficients\n",
    "corr_coefs, _ = correlation_coefficients(s, z_est)\n",
    "\n",
    "n, n_segments = u.shape\n",
    "mean_source = np.zeros((5, n_segments))\n",
    "mean_est = np.zeros((5, n_segments))\n",
    "\n",
    "for i in range(n_segments):\n",
    "    for dim in range(5):\n",
    "        mean_source[dim][i] = np.mean(s[i*1000:(i+1)*1000, [dim]])\n",
    "        mean_est[dim][i] = np.mean(z_est[i*1000:(i+1)*1000, [dim]])\n",
    "        \n",
    "#         axes[dim].plot(mean_source[i])\n",
    "#         axes[dim].plot(mean_est[i])\n",
    "\n",
    "# Standardize both signals (mean=0, std=1)\n",
    "mean_source = (mean_source - np.mean(mean_source, axis=0)) / np.std(mean_source, axis=0)\n",
    "mean_est = (mean_est - np.mean(mean_est, axis=0)) / np.std(mean_est, axis=0)\n",
    "\n",
    "fig, axes = plt.subplots(1, 5, figsize=(15, 3))\n",
    "fig.tight_layout()\n",
    "\n",
    "for i in range(5):\n",
    "    axes[i].plot(mean_source[i], linestyle='-.')\n",
    "    axes[i].plot(mean_est[i], linestyle='-.')\n",
    "    axes[i].set_title(\"corr: \" + str(round(corr_coefs[i], 4)))\n",
    "plt.show()\n",
    "\n"
   ]
  },
  {
   "cell_type": "markdown",
   "metadata": {},
   "source": [
    "#### Outdated: For 40 segmends and 1 point per segment, totalling 40 sample latent-source pairs"
   ]
  },
  {
   "cell_type": "code",
   "execution_count": 50,
   "metadata": {},
   "outputs": [],
   "source": [
    "# Get correlation coefficients\n",
    "corr_coefs, _ = correlation_coefficients(s, z_est)\n",
    "\n",
    "fig, axes = plt.subplots(1, 5, figsize=(15, 3))\n",
    "fig.tight_layout()\n",
    "\n",
    "for i in range(5):\n",
    "    source = s[:, [i]]\n",
    "    est = z_est[:, [i]]\n",
    "\n",
    "    # Standardize both signals (mean=0, std=1)\n",
    "    source = (source - np.mean(source)) / np.std(source)\n",
    "    est = (est - np.mean(est)) / np.std(est)\n",
    "    \n",
    "    axes[i].plot(source, linestyle='-.')\n",
    "    axes[i].plot(est, linestyle='-.')\n",
    "    axes[i].set_title(\"corr: \" + str(round(corr_coefs[i], 4)))\n",
    "plt.show()\n",
    "\n",
    "#######################\n",
    "# Some notable differences:\n",
    "# A sign flip, original authors might have removed any permutations (sign-flips) already such that negative \n",
    "# correlations are avoided in the plotted Figures.\n",
    "\n",
    "# The signals in our Figures are less aligned."
   ]
  },
  {
   "cell_type": "code",
   "execution_count": null,
   "metadata": {},
   "outputs": [],
   "source": []
  }
 ],
 "metadata": {
  "kernelspec": {
   "display_name": "iFlow",
   "language": "python",
   "name": "iflow"
  },
  "language_info": {
   "codemirror_mode": {
    "name": "ipython",
    "version": 3
   },
   "file_extension": ".py",
   "mimetype": "text/x-python",
   "name": "python",
   "nbconvert_exporter": "python",
   "pygments_lexer": "ipython3",
   "version": "3.8.5"
  }
 },
 "nbformat": 4,
 "nbformat_minor": 2
}
