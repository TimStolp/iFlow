{
 "cells": [
  {
   "cell_type": "code",
   "execution_count": 2,
   "metadata": {},
   "outputs": [],
   "source": [
    "import torch\n",
    "import os\n",
    "import os.path as osp\n",
    "import matplotlib.pyplot as plt\n",
    "import numpy as np\n"
   ]
  },
  {
   "cell_type": "code",
   "execution_count": 20,
   "metadata": {},
   "outputs": [],
   "source": [
    "ROOT_DIR = (os.path.abspath(''))\n",
    "MODEL_DIR = os.path.join(ROOT_DIR, \"pt_models\")\n",
    "device = torch.device(\"cuda\" if torch.cuda.is_available() else \"cpu\")"
   ]
  },
  {
   "cell_type": "markdown",
   "metadata": {},
   "source": [
    "## Reproduction of the main results"
   ]
  },
  {
   "cell_type": "code",
   "execution_count": 21,
   "metadata": {},
   "outputs": [],
   "source": [
    "def plot_test_performances():\n",
    "    \"\"\"\n",
    "    Plots the MCC and Deep Energy results of the base dataset for seeds 1 to 60.\n",
    "    \"\"\"\n",
    "    with open(osp.join('results', 'eval_performances.txt')) as f:\n",
    "        performances = list(map(eval, f.readline().split(',')[1:]))\n",
    "\n",
    "    fig, (ax1, ax2) = plt.subplots(1, 2, figsize=(11, 4))\n",
    "    fig.tight_layout()\n",
    "\n",
    "    ax1.plot(performances, '-.', color='gold', label=f'iFlow:{round(np.mean(performances), 4)}({round(np.std(performances), 4)})')\n",
    "    ax1.legend()\n",
    "    ax1.set_xlabel('Seed Number')\n",
    "    ax1.set_ylabel('MCC')\n",
    "\n",
    "    energy_values = np.load(os.path.join('results', 'energy_values.npy'))\n",
    "\n",
    "    ax2.plot(energy_values, '-.', color='gold', label=f'iFlow:{round(np.mean(energy_values), 4)}')\n",
    "    ax2.legend()\n",
    "    ax2.set_xlabel('Seed Number')\n",
    "    ax2.set_ylabel('Energy Value')\n",
    "    plt.show()"
   ]
  },
  {
   "cell_type": "code",
   "execution_count": null,
   "metadata": {},
   "outputs": [],
   "source": [
    "plot_test_performances()"
   ]
  },
  {
   "cell_type": "code",
   "execution_count": null,
   "metadata": {},
   "outputs": [],
   "source": []
  },
  {
   "cell_type": "markdown",
   "metadata": {},
   "source": [
    "## Running the experiments\n",
    "\n",
    "To train and evaluate an iFlow model on the standard dataset using a given seed, the following script can be run. \n",
    "\n",
    "% Geef uitleg over arguments zoals in  https://github.com/uva-fact-ai-course/uva-fact-ai-course/blob/master/DL-prototypes/results.ipynb"
   ]
  },
  {
   "cell_type": "code",
   "execution_count": null,
   "metadata": {},
   "outputs": [],
   "source": [
    "!python main.py \\\n",
    "        -x 1000_40_5_5_3_1_gauss_xtanh_u_f \\\n",
    "        -i iFlow \\\n",
    "        -ft RQNSF_AG \\\n",
    "        -npa Softplus \\\n",
    "        -fl 10 \\\n",
    "        -lr_df 0.25 \\\n",
    "        -lr_pn 10 \\\n",
    "        -b 64 \\\n",
    "        -e 20 \\\n",
    "        -l 1e-3 \\\n",
    "        -s 1 \\\n",
    "        -u 0 \\\n",
    "        -c"
   ]
  }
 ],
 "metadata": {
  "kernelspec": {
   "display_name": "iFlow",
   "language": "python",
   "name": "iflow"
  },
  "language_info": {
   "codemirror_mode": {
    "name": "ipython",
    "version": 3
   },
   "file_extension": ".py",
   "mimetype": "text/x-python",
   "name": "python",
   "nbconvert_exporter": "python",
   "pygments_lexer": "ipython3",
   "version": "3.8.5"
  }
 },
 "nbformat": 4,
 "nbformat_minor": 2
}
